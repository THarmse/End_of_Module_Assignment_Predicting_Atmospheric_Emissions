{
  "cells": [
    {
      "cell_type": "code",
      "execution_count": 2,
      "id": "3b80e7f6-6edf-4c3c-84fa-ea6a3321f78c",
      "metadata": {
        "id": "3b80e7f6-6edf-4c3c-84fa-ea6a3321f78c"
      },
      "outputs": [],
      "source": [
        " # Import libraries"
      ]
    },
    {
      "cell_type": "code",
      "source": [
        "from sklearn.model_selection import train_test_split"
      ],
      "metadata": {
        "id": "HcoHTi8HJ760"
      },
      "id": "HcoHTi8HJ760",
      "execution_count": 3,
      "outputs": []
    },
    {
      "cell_type": "code",
      "source": [
        "from sklearn.svm import SVR"
      ],
      "metadata": {
        "id": "lFCleGVnKRtm"
      },
      "id": "lFCleGVnKRtm",
      "execution_count": 6,
      "outputs": []
    },
    {
      "cell_type": "code",
      "source": [
        "# Initialize Model"
      ],
      "metadata": {
        "id": "2EY9-ha7OaWw"
      },
      "id": "2EY9-ha7OaWw",
      "execution_count": 24,
      "outputs": []
    },
    {
      "cell_type": "code",
      "source": [
        "svm_model = SVR (kernel='rbf')"
      ],
      "metadata": {
        "id": "rIHCidB5OkTg"
      },
      "id": "rIHCidB5OkTg",
      "execution_count": 25,
      "outputs": []
    },
    {
      "cell_type": "code",
      "source": [
        "# Fit the model"
      ],
      "metadata": {
        "id": "yVj8ZUwsPA-Y"
      },
      "id": "yVj8ZUwsPA-Y",
      "execution_count": 17,
      "outputs": []
    },
    {
      "cell_type": "code",
      "source": [
        "svm_model.fit(x_train, y_train)"
      ],
      "metadata": {
        "id": "un5ADD5gPGGn"
      },
      "id": "un5ADD5gPGGn",
      "execution_count": 20,
      "outputs": []
    },
    {
      "cell_type": "code",
      "source": [
        "# Make Prediction"
      ],
      "metadata": {
        "id": "IoRfTHPFQc_G"
      },
      "id": "IoRfTHPFQc_G",
      "execution_count": 21,
      "outputs": []
    },
    {
      "cell_type": "code",
      "source": [
        "svm_preds = svm_model.predict(x_test)"
      ],
      "metadata": {
        "id": "wq01kjumQhoA"
      },
      "id": "wq01kjumQhoA",
      "execution_count": 23,
      "outputs": []
    }
  ],
  "metadata": {
    "kernelspec": {
      "display_name": "Python 3 (ipykernel)",
      "language": "python",
      "name": "python3"
    },
    "language_info": {
      "codemirror_mode": {
        "name": "ipython",
        "version": 3
      },
      "file_extension": ".py",
      "mimetype": "text/x-python",
      "name": "python",
      "nbconvert_exporter": "python",
      "pygments_lexer": "ipython3",
      "version": "3.12.3"
    },
    "colab": {
      "provenance": []
    }
  },
  "nbformat": 4,
  "nbformat_minor": 5
}