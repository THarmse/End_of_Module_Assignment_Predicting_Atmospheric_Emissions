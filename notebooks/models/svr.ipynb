{
 "cells": [
  {
   "cell_type": "markdown",
   "id": "088a8d59-4c06-4c18-948e-afa2f66734b6",
   "metadata": {
    "id": "3b80e7f6-6edf-4c3c-84fa-ea6a3321f78c"
   },
   "source": [
    " # Atmospheric Emmissions Prediction Using Support Vector Regression (SVR) Model"
   ]
  },
  {
   "cell_type": "markdown",
   "id": "b210893a-acab-4a78-b788-26c9b34cb15a",
   "metadata": {},
   "source": [
    "# Import the libraries"
   ]
  },
  {
   "cell_type": "code",
   "execution_count": 9,
   "id": "d54yzTc4rrkb",
   "metadata": {
    "id": "d54yzTc4rrkb"
   },
   "outputs": [],
   "source": [
    "import os"
   ]
  },
  {
   "cell_type": "code",
   "execution_count": 11,
   "id": "sJcL6qXjrwYo",
   "metadata": {
    "id": "sJcL6qXjrwYo"
   },
   "outputs": [],
   "source": [
    "import pandas as pd"
   ]
  },
  {
   "cell_type": "code",
   "execution_count": 13,
   "id": "aJh8L6cwsNyO",
   "metadata": {
    "id": "aJh8L6cwsNyO"
   },
   "outputs": [],
   "source": [
    "import numpy as np"
   ]
  },
  {
   "cell_type": "code",
   "execution_count": 15,
   "id": "HcoHTi8HJ760",
   "metadata": {
    "id": "HcoHTi8HJ760"
   },
   "outputs": [],
   "source": [
    "from sklearn.model_selection import train_test_split"
   ]
  },
  {
   "cell_type": "code",
   "execution_count": 16,
   "id": "lFCleGVnKRtm",
   "metadata": {
    "id": "lFCleGVnKRtm"
   },
   "outputs": [],
   "source": [
    "from sklearn.svm import SVR"
   ]
  },
  {
   "cell_type": "code",
   "execution_count": 17,
   "id": "9cc95774-350b-43b9-8427-9f6cd4021671",
   "metadata": {},
   "outputs": [],
   "source": [
    "from sklearn.svm import LinearSVR"
   ]
  },
  {
   "cell_type": "code",
   "execution_count": 18,
   "id": "yzJUEhnCOSly",
   "metadata": {
    "id": "yzJUEhnCOSly"
   },
   "outputs": [],
   "source": [
    "from sklearn.multioutput import MultiOutputRegressor"
   ]
  },
  {
   "cell_type": "code",
   "execution_count": 19,
   "id": "2y-BViPo20I8",
   "metadata": {
    "id": "2y-BViPo20I8"
   },
   "outputs": [],
   "source": [
    "from sklearn.preprocessing import StandardScaler"
   ]
  },
  {
   "cell_type": "code",
   "execution_count": 20,
   "id": "mZwI4MSlOS6p",
   "metadata": {
    "id": "mZwI4MSlOS6p"
   },
   "outputs": [],
   "source": [
    "from sklearn.metrics import mean_squared_error"
   ]
  },
  {
   "cell_type": "code",
   "execution_count": 27,
   "id": "hfNbIMpvAc-9",
   "metadata": {
    "id": "hfNbIMpvAc-9"
   },
   "outputs": [],
   "source": [
    "from sklearn.metrics import r2_score"
   ]
  },
  {
   "cell_type": "code",
   "execution_count": 29,
   "id": "5713d1db-8f4b-46e8-aaf8-aaffc000037b",
   "metadata": {},
   "outputs": [],
   "source": [
    "from sklearn.decomposition import PCA"
   ]
  },
  {
   "cell_type": "code",
   "execution_count": 31,
   "id": "26dd780e-8aa4-40ad-ab78-7d194f991851",
   "metadata": {},
   "outputs": [],
   "source": [
    "from sklearn.pipeline import make_pipeline"
   ]
  },
  {
   "cell_type": "code",
   "execution_count": 36,
   "id": "73e9ab17-1d1a-49ca-8aca-ecaad2580ac6",
   "metadata": {},
   "outputs": [],
   "source": [
    "from sklearn.pipeline import Pipeline"
   ]
  },
  {
   "cell_type": "code",
   "execution_count": 38,
   "id": "fe55a360-9dbe-4a37-b2ba-069737ca53dd",
   "metadata": {
    "id": "WysbggFpsoXN"
   },
   "outputs": [],
   "source": [
    "# Define paths for train data"
   ]
  },
  {
   "cell_type": "code",
   "execution_count": 40,
   "id": "vriWPQWPsvLR",
   "metadata": {
    "id": "vriWPQWPsvLR"
   },
   "outputs": [],
   "source": [
    "TRAIN_DATA_PATH = 'train_data.csv'\n",
    "TEST_DATA_PATH = 'test_data.csv'"
   ]
  },
  {
   "cell_type": "code",
   "execution_count": 42,
   "id": "97c2ad17-8d23-429c-b4a1-98fd88dc1081",
   "metadata": {
    "id": "IXQvUTi6uChp"
   },
   "outputs": [],
   "source": [
    "# Load the data"
   ]
  },
  {
   "cell_type": "code",
   "execution_count": 44,
   "id": "piFbhx2luKQo",
   "metadata": {
    "id": "piFbhx2luKQo"
   },
   "outputs": [],
   "source": [
    "train_data = pd.read_csv(TRAIN_DATA_PATH)\n",
    "test_data = pd.read_csv(TEST_DATA_PATH)"
   ]
  },
  {
   "cell_type": "code",
   "execution_count": 45,
   "id": "3d89ce0e-8752-42b3-bf54-e2bb99041d99",
   "metadata": {
    "id": "n9WLJ-cB0mwF"
   },
   "outputs": [],
   "source": [
    "# Display the first five rows of the train data"
   ]
  },
  {
   "cell_type": "code",
   "execution_count": 46,
   "id": "vSOAR81R06ef",
   "metadata": {
    "colab": {
     "base_uri": "https://localhost:8080/",
     "height": 290
    },
    "id": "vSOAR81R06ef",
    "outputId": "e8f83375-89e3-4a4d-d007-fd03302b9374"
   },
   "outputs": [
    {
     "data": {
      "text/html": [
       "<div>\n",
       "<style scoped>\n",
       "    .dataframe tbody tr th:only-of-type {\n",
       "        vertical-align: middle;\n",
       "    }\n",
       "\n",
       "    .dataframe tbody tr th {\n",
       "        vertical-align: top;\n",
       "    }\n",
       "\n",
       "    .dataframe thead th {\n",
       "        text-align: right;\n",
       "    }\n",
       "</style>\n",
       "<table border=\"1\" class=\"dataframe\">\n",
       "  <thead>\n",
       "    <tr style=\"text-align: right;\">\n",
       "      <th></th>\n",
       "      <th>Easting</th>\n",
       "      <th>Northing</th>\n",
       "      <th>Borough_Barnet</th>\n",
       "      <th>Borough_Bexley</th>\n",
       "      <th>Borough_Brent</th>\n",
       "      <th>Borough_Bromley</th>\n",
       "      <th>Borough_Camden</th>\n",
       "      <th>Borough_City</th>\n",
       "      <th>Borough_City of Westminster</th>\n",
       "      <th>Borough_Croydon</th>\n",
       "      <th>...</th>\n",
       "      <th>Source_Small Private Vessels</th>\n",
       "      <th>Source_Small Scale Waste Burning</th>\n",
       "      <th>Source_Taxi</th>\n",
       "      <th>Source_TfL Bus</th>\n",
       "      <th>Source_WTS</th>\n",
       "      <th>Source_Wood Burning</th>\n",
       "      <th>nox</th>\n",
       "      <th>pm10</th>\n",
       "      <th>pm2.5</th>\n",
       "      <th>so2</th>\n",
       "    </tr>\n",
       "  </thead>\n",
       "  <tbody>\n",
       "    <tr>\n",
       "      <th>0</th>\n",
       "      <td>-0.910504</td>\n",
       "      <td>-1.249967</td>\n",
       "      <td>False</td>\n",
       "      <td>False</td>\n",
       "      <td>False</td>\n",
       "      <td>False</td>\n",
       "      <td>False</td>\n",
       "      <td>False</td>\n",
       "      <td>False</td>\n",
       "      <td>False</td>\n",
       "      <td>...</td>\n",
       "      <td>False</td>\n",
       "      <td>False</td>\n",
       "      <td>False</td>\n",
       "      <td>False</td>\n",
       "      <td>False</td>\n",
       "      <td>False</td>\n",
       "      <td>-0.236545</td>\n",
       "      <td>-0.295601</td>\n",
       "      <td>-0.404647</td>\n",
       "      <td>0.0</td>\n",
       "    </tr>\n",
       "    <tr>\n",
       "      <th>1</th>\n",
       "      <td>1.035888</td>\n",
       "      <td>-0.322577</td>\n",
       "      <td>False</td>\n",
       "      <td>False</td>\n",
       "      <td>False</td>\n",
       "      <td>False</td>\n",
       "      <td>False</td>\n",
       "      <td>False</td>\n",
       "      <td>False</td>\n",
       "      <td>False</td>\n",
       "      <td>...</td>\n",
       "      <td>True</td>\n",
       "      <td>False</td>\n",
       "      <td>False</td>\n",
       "      <td>False</td>\n",
       "      <td>False</td>\n",
       "      <td>False</td>\n",
       "      <td>-0.236545</td>\n",
       "      <td>-0.295601</td>\n",
       "      <td>-0.404647</td>\n",
       "      <td>0.0</td>\n",
       "    </tr>\n",
       "    <tr>\n",
       "      <th>2</th>\n",
       "      <td>-1.850141</td>\n",
       "      <td>0.450249</td>\n",
       "      <td>False</td>\n",
       "      <td>False</td>\n",
       "      <td>False</td>\n",
       "      <td>False</td>\n",
       "      <td>False</td>\n",
       "      <td>False</td>\n",
       "      <td>False</td>\n",
       "      <td>False</td>\n",
       "      <td>...</td>\n",
       "      <td>True</td>\n",
       "      <td>False</td>\n",
       "      <td>False</td>\n",
       "      <td>False</td>\n",
       "      <td>False</td>\n",
       "      <td>False</td>\n",
       "      <td>-0.236545</td>\n",
       "      <td>-0.295601</td>\n",
       "      <td>-0.404647</td>\n",
       "      <td>0.0</td>\n",
       "    </tr>\n",
       "    <tr>\n",
       "      <th>3</th>\n",
       "      <td>1.707058</td>\n",
       "      <td>0.218401</td>\n",
       "      <td>False</td>\n",
       "      <td>False</td>\n",
       "      <td>False</td>\n",
       "      <td>False</td>\n",
       "      <td>False</td>\n",
       "      <td>False</td>\n",
       "      <td>False</td>\n",
       "      <td>False</td>\n",
       "      <td>...</td>\n",
       "      <td>False</td>\n",
       "      <td>False</td>\n",
       "      <td>False</td>\n",
       "      <td>False</td>\n",
       "      <td>False</td>\n",
       "      <td>False</td>\n",
       "      <td>-0.236545</td>\n",
       "      <td>-0.295601</td>\n",
       "      <td>-0.404647</td>\n",
       "      <td>0.0</td>\n",
       "    </tr>\n",
       "    <tr>\n",
       "      <th>4</th>\n",
       "      <td>1.572824</td>\n",
       "      <td>-0.090729</td>\n",
       "      <td>False</td>\n",
       "      <td>False</td>\n",
       "      <td>False</td>\n",
       "      <td>False</td>\n",
       "      <td>False</td>\n",
       "      <td>False</td>\n",
       "      <td>False</td>\n",
       "      <td>False</td>\n",
       "      <td>...</td>\n",
       "      <td>False</td>\n",
       "      <td>False</td>\n",
       "      <td>False</td>\n",
       "      <td>False</td>\n",
       "      <td>False</td>\n",
       "      <td>False</td>\n",
       "      <td>-0.234448</td>\n",
       "      <td>-0.295601</td>\n",
       "      <td>-0.404647</td>\n",
       "      <td>0.0</td>\n",
       "    </tr>\n",
       "  </tbody>\n",
       "</table>\n",
       "<p>5 rows × 99 columns</p>\n",
       "</div>"
      ],
      "text/plain": [
       "    Easting  Northing  Borough_Barnet  Borough_Bexley  Borough_Brent  \\\n",
       "0 -0.910504 -1.249967           False           False          False   \n",
       "1  1.035888 -0.322577           False           False          False   \n",
       "2 -1.850141  0.450249           False           False          False   \n",
       "3  1.707058  0.218401           False           False          False   \n",
       "4  1.572824 -0.090729           False           False          False   \n",
       "\n",
       "   Borough_Bromley  Borough_Camden  Borough_City  Borough_City of Westminster  \\\n",
       "0            False           False         False                        False   \n",
       "1            False           False         False                        False   \n",
       "2            False           False         False                        False   \n",
       "3            False           False         False                        False   \n",
       "4            False           False         False                        False   \n",
       "\n",
       "   Borough_Croydon  ...  Source_Small Private Vessels  \\\n",
       "0            False  ...                         False   \n",
       "1            False  ...                          True   \n",
       "2            False  ...                          True   \n",
       "3            False  ...                         False   \n",
       "4            False  ...                         False   \n",
       "\n",
       "   Source_Small Scale Waste Burning  Source_Taxi  Source_TfL Bus  Source_WTS  \\\n",
       "0                             False        False           False       False   \n",
       "1                             False        False           False       False   \n",
       "2                             False        False           False       False   \n",
       "3                             False        False           False       False   \n",
       "4                             False        False           False       False   \n",
       "\n",
       "   Source_Wood Burning       nox      pm10     pm2.5  so2  \n",
       "0                False -0.236545 -0.295601 -0.404647  0.0  \n",
       "1                False -0.236545 -0.295601 -0.404647  0.0  \n",
       "2                False -0.236545 -0.295601 -0.404647  0.0  \n",
       "3                False -0.236545 -0.295601 -0.404647  0.0  \n",
       "4                False -0.234448 -0.295601 -0.404647  0.0  \n",
       "\n",
       "[5 rows x 99 columns]"
      ]
     },
     "execution_count": 46,
     "metadata": {},
     "output_type": "execute_result"
    }
   ],
   "source": [
    "train_data.head()"
   ]
  },
  {
   "cell_type": "code",
   "execution_count": 50,
   "id": "ac1ef9b2-ae7b-44bb-aeb5-cde1303f2716",
   "metadata": {
    "id": "h98tYzXO1Lud"
   },
   "outputs": [],
   "source": [
    "# Display the first five rows of the test data"
   ]
  },
  {
   "cell_type": "code",
   "execution_count": 52,
   "id": "_9YyM5WV1b6O",
   "metadata": {
    "colab": {
     "base_uri": "https://localhost:8080/",
     "height": 290
    },
    "id": "_9YyM5WV1b6O",
    "outputId": "efb3bc18-ec21-4be2-8a45-2c28bb2ca6a9"
   },
   "outputs": [
    {
     "data": {
      "text/html": [
       "<div>\n",
       "<style scoped>\n",
       "    .dataframe tbody tr th:only-of-type {\n",
       "        vertical-align: middle;\n",
       "    }\n",
       "\n",
       "    .dataframe tbody tr th {\n",
       "        vertical-align: top;\n",
       "    }\n",
       "\n",
       "    .dataframe thead th {\n",
       "        text-align: right;\n",
       "    }\n",
       "</style>\n",
       "<table border=\"1\" class=\"dataframe\">\n",
       "  <thead>\n",
       "    <tr style=\"text-align: right;\">\n",
       "      <th></th>\n",
       "      <th>Easting</th>\n",
       "      <th>Northing</th>\n",
       "      <th>Borough_Barnet</th>\n",
       "      <th>Borough_Bexley</th>\n",
       "      <th>Borough_Brent</th>\n",
       "      <th>Borough_Bromley</th>\n",
       "      <th>Borough_Camden</th>\n",
       "      <th>Borough_City</th>\n",
       "      <th>Borough_City of Westminster</th>\n",
       "      <th>Borough_Croydon</th>\n",
       "      <th>...</th>\n",
       "      <th>Source_Small Private Vessels</th>\n",
       "      <th>Source_Small Scale Waste Burning</th>\n",
       "      <th>Source_Taxi</th>\n",
       "      <th>Source_TfL Bus</th>\n",
       "      <th>Source_WTS</th>\n",
       "      <th>Source_Wood Burning</th>\n",
       "      <th>nox</th>\n",
       "      <th>pm10</th>\n",
       "      <th>pm2.5</th>\n",
       "      <th>so2</th>\n",
       "    </tr>\n",
       "  </thead>\n",
       "  <tbody>\n",
       "    <tr>\n",
       "      <th>0</th>\n",
       "      <td>-0.105100</td>\n",
       "      <td>1.686769</td>\n",
       "      <td>False</td>\n",
       "      <td>False</td>\n",
       "      <td>False</td>\n",
       "      <td>False</td>\n",
       "      <td>False</td>\n",
       "      <td>False</td>\n",
       "      <td>False</td>\n",
       "      <td>False</td>\n",
       "      <td>...</td>\n",
       "      <td>False</td>\n",
       "      <td>False</td>\n",
       "      <td>False</td>\n",
       "      <td>False</td>\n",
       "      <td>False</td>\n",
       "      <td>False</td>\n",
       "      <td>-0.236545</td>\n",
       "      <td>-0.295601</td>\n",
       "      <td>-0.404647</td>\n",
       "      <td>0.0</td>\n",
       "    </tr>\n",
       "    <tr>\n",
       "      <th>1</th>\n",
       "      <td>-1.783024</td>\n",
       "      <td>-0.786272</td>\n",
       "      <td>False</td>\n",
       "      <td>False</td>\n",
       "      <td>False</td>\n",
       "      <td>False</td>\n",
       "      <td>False</td>\n",
       "      <td>False</td>\n",
       "      <td>False</td>\n",
       "      <td>False</td>\n",
       "      <td>...</td>\n",
       "      <td>False</td>\n",
       "      <td>False</td>\n",
       "      <td>False</td>\n",
       "      <td>False</td>\n",
       "      <td>False</td>\n",
       "      <td>False</td>\n",
       "      <td>1.234381</td>\n",
       "      <td>1.766942</td>\n",
       "      <td>3.368122</td>\n",
       "      <td>0.0</td>\n",
       "    </tr>\n",
       "    <tr>\n",
       "      <th>2</th>\n",
       "      <td>0.767420</td>\n",
       "      <td>0.604814</td>\n",
       "      <td>False</td>\n",
       "      <td>False</td>\n",
       "      <td>False</td>\n",
       "      <td>False</td>\n",
       "      <td>False</td>\n",
       "      <td>False</td>\n",
       "      <td>False</td>\n",
       "      <td>False</td>\n",
       "      <td>...</td>\n",
       "      <td>False</td>\n",
       "      <td>False</td>\n",
       "      <td>False</td>\n",
       "      <td>False</td>\n",
       "      <td>False</td>\n",
       "      <td>False</td>\n",
       "      <td>-0.236545</td>\n",
       "      <td>-0.295601</td>\n",
       "      <td>-0.404647</td>\n",
       "      <td>0.0</td>\n",
       "    </tr>\n",
       "    <tr>\n",
       "      <th>3</th>\n",
       "      <td>-0.105100</td>\n",
       "      <td>-0.477142</td>\n",
       "      <td>False</td>\n",
       "      <td>False</td>\n",
       "      <td>False</td>\n",
       "      <td>False</td>\n",
       "      <td>False</td>\n",
       "      <td>False</td>\n",
       "      <td>False</td>\n",
       "      <td>False</td>\n",
       "      <td>...</td>\n",
       "      <td>False</td>\n",
       "      <td>False</td>\n",
       "      <td>False</td>\n",
       "      <td>False</td>\n",
       "      <td>False</td>\n",
       "      <td>False</td>\n",
       "      <td>0.973890</td>\n",
       "      <td>3.215296</td>\n",
       "      <td>4.742593</td>\n",
       "      <td>0.0</td>\n",
       "    </tr>\n",
       "    <tr>\n",
       "      <th>4</th>\n",
       "      <td>-1.313205</td>\n",
       "      <td>1.764052</td>\n",
       "      <td>False</td>\n",
       "      <td>False</td>\n",
       "      <td>False</td>\n",
       "      <td>False</td>\n",
       "      <td>False</td>\n",
       "      <td>False</td>\n",
       "      <td>False</td>\n",
       "      <td>False</td>\n",
       "      <td>...</td>\n",
       "      <td>False</td>\n",
       "      <td>False</td>\n",
       "      <td>False</td>\n",
       "      <td>False</td>\n",
       "      <td>False</td>\n",
       "      <td>False</td>\n",
       "      <td>-0.236545</td>\n",
       "      <td>-0.295601</td>\n",
       "      <td>-0.404647</td>\n",
       "      <td>0.0</td>\n",
       "    </tr>\n",
       "  </tbody>\n",
       "</table>\n",
       "<p>5 rows × 99 columns</p>\n",
       "</div>"
      ],
      "text/plain": [
       "    Easting  Northing  Borough_Barnet  Borough_Bexley  Borough_Brent  \\\n",
       "0 -0.105100  1.686769           False           False          False   \n",
       "1 -1.783024 -0.786272           False           False          False   \n",
       "2  0.767420  0.604814           False           False          False   \n",
       "3 -0.105100 -0.477142           False           False          False   \n",
       "4 -1.313205  1.764052           False           False          False   \n",
       "\n",
       "   Borough_Bromley  Borough_Camden  Borough_City  Borough_City of Westminster  \\\n",
       "0            False           False         False                        False   \n",
       "1            False           False         False                        False   \n",
       "2            False           False         False                        False   \n",
       "3            False           False         False                        False   \n",
       "4            False           False         False                        False   \n",
       "\n",
       "   Borough_Croydon  ...  Source_Small Private Vessels  \\\n",
       "0            False  ...                         False   \n",
       "1            False  ...                         False   \n",
       "2            False  ...                         False   \n",
       "3            False  ...                         False   \n",
       "4            False  ...                         False   \n",
       "\n",
       "   Source_Small Scale Waste Burning  Source_Taxi  Source_TfL Bus  Source_WTS  \\\n",
       "0                             False        False           False       False   \n",
       "1                             False        False           False       False   \n",
       "2                             False        False           False       False   \n",
       "3                             False        False           False       False   \n",
       "4                             False        False           False       False   \n",
       "\n",
       "   Source_Wood Burning       nox      pm10     pm2.5  so2  \n",
       "0                False -0.236545 -0.295601 -0.404647  0.0  \n",
       "1                False  1.234381  1.766942  3.368122  0.0  \n",
       "2                False -0.236545 -0.295601 -0.404647  0.0  \n",
       "3                False  0.973890  3.215296  4.742593  0.0  \n",
       "4                False -0.236545 -0.295601 -0.404647  0.0  \n",
       "\n",
       "[5 rows x 99 columns]"
      ]
     },
     "execution_count": 52,
     "metadata": {},
     "output_type": "execute_result"
    }
   ],
   "source": [
    "test_data.head()"
   ]
  },
  {
   "cell_type": "markdown",
   "id": "ec2468b5-9b1d-4939-ada7-09240e3db920",
   "metadata": {
    "id": "2EY9-ha7OaWw"
   },
   "source": [
    "# Develop the Model"
   ]
  },
  {
   "cell_type": "code",
   "execution_count": 55,
   "id": "185bea43-3721-424d-a982-529387f3f2f7",
   "metadata": {
    "id": "yxqDvqn42WGQ"
   },
   "outputs": [],
   "source": [
    "# Method: Using Support Vector Regression Algorith (SVR)"
   ]
  },
  {
   "cell_type": "code",
   "execution_count": 57,
   "id": "_sT3CtY96Vcm",
   "metadata": {
    "id": "_sT3CtY96Vcm"
   },
   "outputs": [],
   "source": [
    "# Define the target columns(Pollutants)"
   ]
  },
  {
   "cell_type": "code",
   "execution_count": 59,
   "id": "YCkOXff46beC",
   "metadata": {
    "id": "YCkOXff46beC"
   },
   "outputs": [],
   "source": [
    "target_columns = ['nox','pm10','pm2.5','so2']"
   ]
  },
  {
   "cell_type": "code",
   "execution_count": 61,
   "id": "df8c3843-c2a4-4ffc-ac58-93c000213729",
   "metadata": {
    "id": "_gEnQjlo7KWD"
   },
   "outputs": [],
   "source": [
    "# Define x (features) and y (target) for both train and test data."
   ]
  },
  {
   "cell_type": "code",
   "execution_count": 63,
   "id": "NWJIm9wM8Um6",
   "metadata": {
    "id": "NWJIm9wM8Um6"
   },
   "outputs": [],
   "source": [
    "x_train = train_data.drop(['nox', 'pm10', 'pm2.5', 'so2'], axis=1)\n",
    "y_train = train_data[['nox', 'pm10', 'pm2.5', 'so2']]"
   ]
  },
  {
   "cell_type": "code",
   "execution_count": 65,
   "id": "MpS2oqDu_Xc9",
   "metadata": {
    "id": "MpS2oqDu_Xc9"
   },
   "outputs": [],
   "source": [
    "x_test = test_data.drop(['nox','pm10','pm2.5', 'so2'], axis=1)\n",
    "y_test = test_data[['nox','pm10','pm2.5','so2']]"
   ]
  },
  {
   "cell_type": "code",
   "execution_count": 67,
   "id": "09e5f327-3f4b-46ae-9903-bd5615ef5265",
   "metadata": {
    "id": "fyx1_8lTA1LH"
   },
   "outputs": [],
   "source": [
    "# Print the shape of the training and test dataset"
   ]
  },
  {
   "cell_type": "code",
   "execution_count": 69,
   "id": "rvbsPXOsBN7Z",
   "metadata": {
    "colab": {
     "base_uri": "https://localhost:8080/"
    },
    "id": "rvbsPXOsBN7Z",
    "outputId": "6bfac7d7-3df0-4d04-ce20-c1c55ef4c098"
   },
   "outputs": [
    {
     "name": "stdout",
     "output_type": "stream",
     "text": [
      "x_train shape: (59934, 95), y_train shape : (59934, 4)\n",
      "x_test shape: (14984, 95), y_test shape : (14984, 4)\n"
     ]
    }
   ],
   "source": [
    "print (f\"x_train shape: {x_train.shape}, y_train shape : {y_train.shape}\")\n",
    "print (f\"x_test shape: {x_test.shape}, y_test shape : {y_test.shape}\")"
   ]
  },
  {
   "cell_type": "markdown",
   "id": "8a0991bc-6b98-41a6-92f2-e0fe9ae0488e",
   "metadata": {
    "id": "t23-9A_g2h2N"
   },
   "source": [
    "# Initialise the SVR Model and consolidate it with MultiOutput Regressor"
   ]
  },
  {
   "cell_type": "code",
   "execution_count": 72,
   "id": "947e7ded-aad3-4057-a693-94b0814f6783",
   "metadata": {
    "id": "qGPm1hY935Gw"
   },
   "outputs": [],
   "source": [
    "# Scale the data using Standard Scaler"
   ]
  },
  {
   "cell_type": "code",
   "execution_count": 74,
   "id": "bawKHoyC4KI1",
   "metadata": {
    "id": "bawKHoyC4KI1"
   },
   "outputs": [],
   "source": [
    "scaler = StandardScaler()\n",
    "x_train_scaled = scaler.fit_transform(x_train) # fit and transform the training data\n",
    "x_test_scaled = scaler.transform(x_test) # transform the test data"
   ]
  },
  {
   "cell_type": "markdown",
   "id": "679be173-a42c-4721-a406-c5aea37bd7b2",
   "metadata": {},
   "source": [
    "# Create a Pipeline with Scaling, PCA and SVR Model "
   ]
  },
  {
   "cell_type": "code",
   "execution_count": 77,
   "id": "27a56b0d-e171-4564-8321-6a5d05882352",
   "metadata": {},
   "outputs": [],
   "source": [
    "pipeline = Pipeline(steps=[\n",
    "    ('scaler', StandardScaler()), # Scale the features\n",
    "    ('pca', PCA(n_components=0.95)),  # Apply PCA for Dimensional Reduction\n",
    "    ('svr', MultiOutputRegressor(LinearSVR(random_state=42, max_iter=20000)))  # Fit the SVR model\n",
    "])"
   ]
  },
  {
   "cell_type": "markdown",
   "id": "a1400018-1a54-4e12-873d-248a9c267812",
   "metadata": {},
   "source": [
    "# Train and Fit the Model"
   ]
  },
  {
   "cell_type": "code",
   "execution_count": null,
   "id": "ee42f0dc-01a9-414d-869f-4dd11dca60d2",
   "metadata": {},
   "outputs": [],
   "source": [
    "pipeline.fit(x_train, y_train)"
   ]
  },
  {
   "cell_type": "markdown",
   "id": "a83fe7b6-f1d9-4ad9-9f34-983a943fd613",
   "metadata": {},
   "source": [
    "# Make the Prediction on the test data"
   ]
  },
  {
   "cell_type": "code",
   "execution_count": null,
   "id": "e5826f0a-07ee-45da-8a74-36e9d59aa02e",
   "metadata": {},
   "outputs": [],
   "source": [
    "svr_predictions = pipeline.predict(x_test)"
   ]
  },
  {
   "cell_type": "markdown",
   "id": "5b8bf5a6-5c0b-4655-9492-21578843920f",
   "metadata": {
    "id": "-pzh-C-IB-El"
   },
   "source": [
    "# Model Evaluation Using mean square error"
   ]
  },
  {
   "cell_type": "markdown",
   "id": "57937656-888f-41e4-b366-7b69473014b7",
   "metadata": {},
   "source": [
    "# Evaluate each target's prediction by using mean square error and r square."
   ]
  },
  {
   "cell_type": "code",
   "execution_count": null,
   "id": "eb09842d-1c48-4f5d-aceb-8ff5276ef7dc",
   "metadata": {},
   "outputs": [],
   "source": [
    "mse = mean_squared_error(y_test, svr_predictions)\n",
    "r2 = r2_scores (y_test, svr_predictions)"
   ]
  },
  {
   "cell_type": "code",
   "execution_count": null,
   "id": "2e31b0b6-87ee-4a0b-ae6e-0c0556d83257",
   "metadata": {},
   "outputs": [],
   "source": [
    "print(f\"Mean Squared Error: {mse}\")\n",
    "print(f\"R-Squared: {r2}\")"
   ]
  },
  {
   "cell_type": "markdown",
   "id": "c3e80a12-8812-40dc-940d-a778e6720c37",
   "metadata": {},
   "source": [
    "# Save the Train Model"
   ]
  },
  {
   "cell_type": "markdown",
   "id": "fcdae9b7-6df2-4708-9adc-8dfa12c36583",
   "metadata": {},
   "source": [
    "# We will now save our trained model for future pruposes and predictions"
   ]
  },
  {
   "cell_type": "code",
   "execution_count": null,
   "id": "9498061a-9231-45ed-b40c-3bbe0fc82bef",
   "metadata": {},
   "outputs": [],
   "source": []
  },
  {
   "cell_type": "code",
   "execution_count": null,
   "id": "0387c45f-2519-464d-b5f6-cab573e50507",
   "metadata": {},
   "outputs": [],
   "source": []
  }
 ],
 "metadata": {
  "colab": {
   "provenance": []
  },
  "kernelspec": {
   "display_name": "Python 3 (ipykernel)",
   "language": "python",
   "name": "python3"
  },
  "language_info": {
   "codemirror_mode": {
    "name": "ipython",
    "version": 3
   },
   "file_extension": ".py",
   "mimetype": "text/x-python",
   "name": "python",
   "nbconvert_exporter": "python",
   "pygments_lexer": "ipython3",
   "version": "3.11.7"
  }
 },
 "nbformat": 4,
 "nbformat_minor": 5
}
