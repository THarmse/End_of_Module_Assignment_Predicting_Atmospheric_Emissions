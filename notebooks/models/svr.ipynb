{
 "cells": [
  {
   "cell_type": "markdown",
   "id": "088a8d59-4c06-4c18-948e-afa2f66734b6",
   "metadata": {
    "id": "3b80e7f6-6edf-4c3c-84fa-ea6a3321f78c"
   },
   "source": [
    " # Atmospheric Emmissions Prediction Using Support Vector Regression (SVR) Model"
   ]
  },
  {
   "cell_type": "markdown",
   "id": "b210893a-acab-4a78-b788-26c9b34cb15a",
   "metadata": {},
   "source": [
    "# Import the libraries"
   ]
  },
  {
   "cell_type": "code",
   "execution_count": 1,
   "id": "d54yzTc4rrkb",
   "metadata": {
    "id": "d54yzTc4rrkb"
   },
   "outputs": [],
   "source": [
    "import os"
   ]
  },
  {
   "cell_type": "code",
   "execution_count": 2,
   "id": "sJcL6qXjrwYo",
   "metadata": {
    "id": "sJcL6qXjrwYo"
   },
   "outputs": [],
   "source": [
    "import pandas as pd"
   ]
  },
  {
   "cell_type": "code",
   "execution_count": 3,
   "id": "aJh8L6cwsNyO",
   "metadata": {
    "id": "aJh8L6cwsNyO"
   },
   "outputs": [],
   "source": [
    "import numpy as np"
   ]
  },
  {
   "cell_type": "code",
   "execution_count": 4,
   "id": "db8edc6a-55ab-426c-8697-d5688ac205a8",
   "metadata": {},
   "outputs": [],
   "source": [
    "import joblib"
   ]
  },
  {
   "cell_type": "code",
   "execution_count": 5,
   "id": "HcoHTi8HJ760",
   "metadata": {
    "id": "HcoHTi8HJ760"
   },
   "outputs": [],
   "source": [
    "from sklearn.model_selection import train_test_split"
   ]
  },
  {
   "cell_type": "code",
   "execution_count": 6,
   "id": "lFCleGVnKRtm",
   "metadata": {
    "id": "lFCleGVnKRtm"
   },
   "outputs": [],
   "source": [
    "from sklearn.svm import SVR"
   ]
  },
  {
   "cell_type": "code",
   "execution_count": 7,
   "id": "9cc95774-350b-43b9-8427-9f6cd4021671",
   "metadata": {},
   "outputs": [],
   "source": [
    "from sklearn.svm import LinearSVR"
   ]
  },
  {
   "cell_type": "code",
   "execution_count": 8,
   "id": "yzJUEhnCOSly",
   "metadata": {
    "id": "yzJUEhnCOSly"
   },
   "outputs": [],
   "source": [
    "from sklearn.multioutput import MultiOutputRegressor"
   ]
  },
  {
   "cell_type": "code",
   "execution_count": 9,
   "id": "2y-BViPo20I8",
   "metadata": {
    "id": "2y-BViPo20I8"
   },
   "outputs": [],
   "source": [
    "from sklearn.preprocessing import StandardScaler"
   ]
  },
  {
   "cell_type": "code",
   "execution_count": 10,
   "id": "mZwI4MSlOS6p",
   "metadata": {
    "id": "mZwI4MSlOS6p"
   },
   "outputs": [],
   "source": [
    "from sklearn.metrics import mean_squared_error"
   ]
  },
  {
   "cell_type": "code",
   "execution_count": 11,
   "id": "hfNbIMpvAc-9",
   "metadata": {
    "id": "hfNbIMpvAc-9"
   },
   "outputs": [],
   "source": [
    "from sklearn.metrics import r2_score"
   ]
  },
  {
   "cell_type": "code",
   "execution_count": 12,
   "id": "5713d1db-8f4b-46e8-aaf8-aaffc000037b",
   "metadata": {},
   "outputs": [],
   "source": [
    "from sklearn.decomposition import PCA"
   ]
  },
  {
   "cell_type": "code",
   "execution_count": 13,
   "id": "26dd780e-8aa4-40ad-ab78-7d194f991851",
   "metadata": {},
   "outputs": [],
   "source": [
    "from sklearn.pipeline import make_pipeline"
   ]
  },
  {
   "cell_type": "code",
   "execution_count": 14,
   "id": "73e9ab17-1d1a-49ca-8aca-ecaad2580ac6",
   "metadata": {},
   "outputs": [],
   "source": [
    "from sklearn.pipeline import Pipeline"
   ]
  },
  {
   "cell_type": "code",
   "execution_count": 15,
   "id": "fe55a360-9dbe-4a37-b2ba-069737ca53dd",
   "metadata": {
    "id": "WysbggFpsoXN"
   },
   "outputs": [],
   "source": [
    "# Define paths for train data"
   ]
  },
  {
   "cell_type": "code",
   "execution_count": 16,
   "id": "vriWPQWPsvLR",
   "metadata": {
    "id": "vriWPQWPsvLR"
   },
   "outputs": [],
   "source": [
    "TRAIN_DATA_PATH = '../../data/processed/train_data.csv'\n",
    "TEST_DATA_PATH = '../../data/processed/test_data.csv'"
   ]
  },
  {
   "cell_type": "code",
   "execution_count": 17,
   "id": "97c2ad17-8d23-429c-b4a1-98fd88dc1081",
   "metadata": {
    "id": "IXQvUTi6uChp"
   },
   "outputs": [],
   "source": [
    "# Load the data"
   ]
  },
  {
   "cell_type": "code",
   "execution_count": 18,
   "id": "piFbhx2luKQo",
   "metadata": {
    "id": "piFbhx2luKQo"
   },
   "outputs": [],
   "source": [
    "train_data = pd.read_csv(TRAIN_DATA_PATH)\n",
    "test_data = pd.read_csv(TEST_DATA_PATH)"
   ]
  },
  {
   "cell_type": "code",
   "execution_count": 19,
   "id": "3d89ce0e-8752-42b3-bf54-e2bb99041d99",
   "metadata": {
    "id": "n9WLJ-cB0mwF"
   },
   "outputs": [],
   "source": [
    "# Display the first five rows of the train data"
   ]
  },
  {
   "cell_type": "code",
   "execution_count": 20,
   "id": "vSOAR81R06ef",
   "metadata": {
    "colab": {
     "base_uri": "https://localhost:8080/",
     "height": 290
    },
    "id": "vSOAR81R06ef",
    "outputId": "e8f83375-89e3-4a4d-d007-fd03302b9374"
   },
   "outputs": [
    {
     "data": {
      "text/html": [
       "<div>\n",
       "<style scoped>\n",
       "    .dataframe tbody tr th:only-of-type {\n",
       "        vertical-align: middle;\n",
       "    }\n",
       "\n",
       "    .dataframe tbody tr th {\n",
       "        vertical-align: top;\n",
       "    }\n",
       "\n",
       "    .dataframe thead th {\n",
       "        text-align: right;\n",
       "    }\n",
       "</style>\n",
       "<table border=\"1\" class=\"dataframe\">\n",
       "  <thead>\n",
       "    <tr style=\"text-align: right;\">\n",
       "      <th></th>\n",
       "      <th>Easting</th>\n",
       "      <th>Northing</th>\n",
       "      <th>Borough_Barnet</th>\n",
       "      <th>Borough_Bexley</th>\n",
       "      <th>Borough_Brent</th>\n",
       "      <th>Borough_Bromley</th>\n",
       "      <th>Borough_Camden</th>\n",
       "      <th>Borough_City</th>\n",
       "      <th>Borough_City of Westminster</th>\n",
       "      <th>Borough_Croydon</th>\n",
       "      <th>...</th>\n",
       "      <th>Source_Small Private Vessels</th>\n",
       "      <th>Source_Small Scale Waste Burning</th>\n",
       "      <th>Source_Taxi</th>\n",
       "      <th>Source_TfL Bus</th>\n",
       "      <th>Source_WTS</th>\n",
       "      <th>Source_Wood Burning</th>\n",
       "      <th>nox</th>\n",
       "      <th>pm10</th>\n",
       "      <th>pm2.5</th>\n",
       "      <th>so2</th>\n",
       "    </tr>\n",
       "  </thead>\n",
       "  <tbody>\n",
       "    <tr>\n",
       "      <th>0</th>\n",
       "      <td>-0.910504</td>\n",
       "      <td>-1.249967</td>\n",
       "      <td>False</td>\n",
       "      <td>False</td>\n",
       "      <td>False</td>\n",
       "      <td>False</td>\n",
       "      <td>False</td>\n",
       "      <td>False</td>\n",
       "      <td>False</td>\n",
       "      <td>False</td>\n",
       "      <td>...</td>\n",
       "      <td>False</td>\n",
       "      <td>False</td>\n",
       "      <td>False</td>\n",
       "      <td>False</td>\n",
       "      <td>False</td>\n",
       "      <td>False</td>\n",
       "      <td>-0.236545</td>\n",
       "      <td>-0.295601</td>\n",
       "      <td>-0.404647</td>\n",
       "      <td>0.0</td>\n",
       "    </tr>\n",
       "    <tr>\n",
       "      <th>1</th>\n",
       "      <td>1.035888</td>\n",
       "      <td>-0.322577</td>\n",
       "      <td>False</td>\n",
       "      <td>False</td>\n",
       "      <td>False</td>\n",
       "      <td>False</td>\n",
       "      <td>False</td>\n",
       "      <td>False</td>\n",
       "      <td>False</td>\n",
       "      <td>False</td>\n",
       "      <td>...</td>\n",
       "      <td>True</td>\n",
       "      <td>False</td>\n",
       "      <td>False</td>\n",
       "      <td>False</td>\n",
       "      <td>False</td>\n",
       "      <td>False</td>\n",
       "      <td>-0.236545</td>\n",
       "      <td>-0.295601</td>\n",
       "      <td>-0.404647</td>\n",
       "      <td>0.0</td>\n",
       "    </tr>\n",
       "    <tr>\n",
       "      <th>2</th>\n",
       "      <td>-1.850141</td>\n",
       "      <td>0.450249</td>\n",
       "      <td>False</td>\n",
       "      <td>False</td>\n",
       "      <td>False</td>\n",
       "      <td>False</td>\n",
       "      <td>False</td>\n",
       "      <td>False</td>\n",
       "      <td>False</td>\n",
       "      <td>False</td>\n",
       "      <td>...</td>\n",
       "      <td>True</td>\n",
       "      <td>False</td>\n",
       "      <td>False</td>\n",
       "      <td>False</td>\n",
       "      <td>False</td>\n",
       "      <td>False</td>\n",
       "      <td>-0.236545</td>\n",
       "      <td>-0.295601</td>\n",
       "      <td>-0.404647</td>\n",
       "      <td>0.0</td>\n",
       "    </tr>\n",
       "    <tr>\n",
       "      <th>3</th>\n",
       "      <td>1.707058</td>\n",
       "      <td>0.218401</td>\n",
       "      <td>False</td>\n",
       "      <td>False</td>\n",
       "      <td>False</td>\n",
       "      <td>False</td>\n",
       "      <td>False</td>\n",
       "      <td>False</td>\n",
       "      <td>False</td>\n",
       "      <td>False</td>\n",
       "      <td>...</td>\n",
       "      <td>False</td>\n",
       "      <td>False</td>\n",
       "      <td>False</td>\n",
       "      <td>False</td>\n",
       "      <td>False</td>\n",
       "      <td>False</td>\n",
       "      <td>-0.236545</td>\n",
       "      <td>-0.295601</td>\n",
       "      <td>-0.404647</td>\n",
       "      <td>0.0</td>\n",
       "    </tr>\n",
       "    <tr>\n",
       "      <th>4</th>\n",
       "      <td>1.572824</td>\n",
       "      <td>-0.090729</td>\n",
       "      <td>False</td>\n",
       "      <td>False</td>\n",
       "      <td>False</td>\n",
       "      <td>False</td>\n",
       "      <td>False</td>\n",
       "      <td>False</td>\n",
       "      <td>False</td>\n",
       "      <td>False</td>\n",
       "      <td>...</td>\n",
       "      <td>False</td>\n",
       "      <td>False</td>\n",
       "      <td>False</td>\n",
       "      <td>False</td>\n",
       "      <td>False</td>\n",
       "      <td>False</td>\n",
       "      <td>-0.234448</td>\n",
       "      <td>-0.295601</td>\n",
       "      <td>-0.404647</td>\n",
       "      <td>0.0</td>\n",
       "    </tr>\n",
       "  </tbody>\n",
       "</table>\n",
       "<p>5 rows × 99 columns</p>\n",
       "</div>"
      ],
      "text/plain": [
       "    Easting  Northing  Borough_Barnet  Borough_Bexley  Borough_Brent  \\\n",
       "0 -0.910504 -1.249967           False           False          False   \n",
       "1  1.035888 -0.322577           False           False          False   \n",
       "2 -1.850141  0.450249           False           False          False   \n",
       "3  1.707058  0.218401           False           False          False   \n",
       "4  1.572824 -0.090729           False           False          False   \n",
       "\n",
       "   Borough_Bromley  Borough_Camden  Borough_City  Borough_City of Westminster  \\\n",
       "0            False           False         False                        False   \n",
       "1            False           False         False                        False   \n",
       "2            False           False         False                        False   \n",
       "3            False           False         False                        False   \n",
       "4            False           False         False                        False   \n",
       "\n",
       "   Borough_Croydon  ...  Source_Small Private Vessels  \\\n",
       "0            False  ...                         False   \n",
       "1            False  ...                          True   \n",
       "2            False  ...                          True   \n",
       "3            False  ...                         False   \n",
       "4            False  ...                         False   \n",
       "\n",
       "   Source_Small Scale Waste Burning  Source_Taxi  Source_TfL Bus  Source_WTS  \\\n",
       "0                             False        False           False       False   \n",
       "1                             False        False           False       False   \n",
       "2                             False        False           False       False   \n",
       "3                             False        False           False       False   \n",
       "4                             False        False           False       False   \n",
       "\n",
       "   Source_Wood Burning       nox      pm10     pm2.5  so2  \n",
       "0                False -0.236545 -0.295601 -0.404647  0.0  \n",
       "1                False -0.236545 -0.295601 -0.404647  0.0  \n",
       "2                False -0.236545 -0.295601 -0.404647  0.0  \n",
       "3                False -0.236545 -0.295601 -0.404647  0.0  \n",
       "4                False -0.234448 -0.295601 -0.404647  0.0  \n",
       "\n",
       "[5 rows x 99 columns]"
      ]
     },
     "execution_count": 20,
     "metadata": {},
     "output_type": "execute_result"
    }
   ],
   "source": [
    "train_data.head()"
   ]
  },
  {
   "cell_type": "code",
   "execution_count": 21,
   "id": "ac1ef9b2-ae7b-44bb-aeb5-cde1303f2716",
   "metadata": {
    "id": "h98tYzXO1Lud"
   },
   "outputs": [],
   "source": [
    "# Display the first five rows of the test data"
   ]
  },
  {
   "cell_type": "code",
   "execution_count": 22,
   "id": "_9YyM5WV1b6O",
   "metadata": {
    "colab": {
     "base_uri": "https://localhost:8080/",
     "height": 290
    },
    "id": "_9YyM5WV1b6O",
    "outputId": "efb3bc18-ec21-4be2-8a45-2c28bb2ca6a9"
   },
   "outputs": [
    {
     "data": {
      "text/html": [
       "<div>\n",
       "<style scoped>\n",
       "    .dataframe tbody tr th:only-of-type {\n",
       "        vertical-align: middle;\n",
       "    }\n",
       "\n",
       "    .dataframe tbody tr th {\n",
       "        vertical-align: top;\n",
       "    }\n",
       "\n",
       "    .dataframe thead th {\n",
       "        text-align: right;\n",
       "    }\n",
       "</style>\n",
       "<table border=\"1\" class=\"dataframe\">\n",
       "  <thead>\n",
       "    <tr style=\"text-align: right;\">\n",
       "      <th></th>\n",
       "      <th>Easting</th>\n",
       "      <th>Northing</th>\n",
       "      <th>Borough_Barnet</th>\n",
       "      <th>Borough_Bexley</th>\n",
       "      <th>Borough_Brent</th>\n",
       "      <th>Borough_Bromley</th>\n",
       "      <th>Borough_Camden</th>\n",
       "      <th>Borough_City</th>\n",
       "      <th>Borough_City of Westminster</th>\n",
       "      <th>Borough_Croydon</th>\n",
       "      <th>...</th>\n",
       "      <th>Source_Small Private Vessels</th>\n",
       "      <th>Source_Small Scale Waste Burning</th>\n",
       "      <th>Source_Taxi</th>\n",
       "      <th>Source_TfL Bus</th>\n",
       "      <th>Source_WTS</th>\n",
       "      <th>Source_Wood Burning</th>\n",
       "      <th>nox</th>\n",
       "      <th>pm10</th>\n",
       "      <th>pm2.5</th>\n",
       "      <th>so2</th>\n",
       "    </tr>\n",
       "  </thead>\n",
       "  <tbody>\n",
       "    <tr>\n",
       "      <th>0</th>\n",
       "      <td>-0.105100</td>\n",
       "      <td>1.686769</td>\n",
       "      <td>False</td>\n",
       "      <td>False</td>\n",
       "      <td>False</td>\n",
       "      <td>False</td>\n",
       "      <td>False</td>\n",
       "      <td>False</td>\n",
       "      <td>False</td>\n",
       "      <td>False</td>\n",
       "      <td>...</td>\n",
       "      <td>False</td>\n",
       "      <td>False</td>\n",
       "      <td>False</td>\n",
       "      <td>False</td>\n",
       "      <td>False</td>\n",
       "      <td>False</td>\n",
       "      <td>-0.236545</td>\n",
       "      <td>-0.295601</td>\n",
       "      <td>-0.404647</td>\n",
       "      <td>0.0</td>\n",
       "    </tr>\n",
       "    <tr>\n",
       "      <th>1</th>\n",
       "      <td>-1.783024</td>\n",
       "      <td>-0.786272</td>\n",
       "      <td>False</td>\n",
       "      <td>False</td>\n",
       "      <td>False</td>\n",
       "      <td>False</td>\n",
       "      <td>False</td>\n",
       "      <td>False</td>\n",
       "      <td>False</td>\n",
       "      <td>False</td>\n",
       "      <td>...</td>\n",
       "      <td>False</td>\n",
       "      <td>False</td>\n",
       "      <td>False</td>\n",
       "      <td>False</td>\n",
       "      <td>False</td>\n",
       "      <td>False</td>\n",
       "      <td>1.234381</td>\n",
       "      <td>1.766942</td>\n",
       "      <td>3.368122</td>\n",
       "      <td>0.0</td>\n",
       "    </tr>\n",
       "    <tr>\n",
       "      <th>2</th>\n",
       "      <td>0.767420</td>\n",
       "      <td>0.604814</td>\n",
       "      <td>False</td>\n",
       "      <td>False</td>\n",
       "      <td>False</td>\n",
       "      <td>False</td>\n",
       "      <td>False</td>\n",
       "      <td>False</td>\n",
       "      <td>False</td>\n",
       "      <td>False</td>\n",
       "      <td>...</td>\n",
       "      <td>False</td>\n",
       "      <td>False</td>\n",
       "      <td>False</td>\n",
       "      <td>False</td>\n",
       "      <td>False</td>\n",
       "      <td>False</td>\n",
       "      <td>-0.236545</td>\n",
       "      <td>-0.295601</td>\n",
       "      <td>-0.404647</td>\n",
       "      <td>0.0</td>\n",
       "    </tr>\n",
       "    <tr>\n",
       "      <th>3</th>\n",
       "      <td>-0.105100</td>\n",
       "      <td>-0.477142</td>\n",
       "      <td>False</td>\n",
       "      <td>False</td>\n",
       "      <td>False</td>\n",
       "      <td>False</td>\n",
       "      <td>False</td>\n",
       "      <td>False</td>\n",
       "      <td>False</td>\n",
       "      <td>False</td>\n",
       "      <td>...</td>\n",
       "      <td>False</td>\n",
       "      <td>False</td>\n",
       "      <td>False</td>\n",
       "      <td>False</td>\n",
       "      <td>False</td>\n",
       "      <td>False</td>\n",
       "      <td>0.973890</td>\n",
       "      <td>3.215296</td>\n",
       "      <td>4.742593</td>\n",
       "      <td>0.0</td>\n",
       "    </tr>\n",
       "    <tr>\n",
       "      <th>4</th>\n",
       "      <td>-1.313205</td>\n",
       "      <td>1.764052</td>\n",
       "      <td>False</td>\n",
       "      <td>False</td>\n",
       "      <td>False</td>\n",
       "      <td>False</td>\n",
       "      <td>False</td>\n",
       "      <td>False</td>\n",
       "      <td>False</td>\n",
       "      <td>False</td>\n",
       "      <td>...</td>\n",
       "      <td>False</td>\n",
       "      <td>False</td>\n",
       "      <td>False</td>\n",
       "      <td>False</td>\n",
       "      <td>False</td>\n",
       "      <td>False</td>\n",
       "      <td>-0.236545</td>\n",
       "      <td>-0.295601</td>\n",
       "      <td>-0.404647</td>\n",
       "      <td>0.0</td>\n",
       "    </tr>\n",
       "  </tbody>\n",
       "</table>\n",
       "<p>5 rows × 99 columns</p>\n",
       "</div>"
      ],
      "text/plain": [
       "    Easting  Northing  Borough_Barnet  Borough_Bexley  Borough_Brent  \\\n",
       "0 -0.105100  1.686769           False           False          False   \n",
       "1 -1.783024 -0.786272           False           False          False   \n",
       "2  0.767420  0.604814           False           False          False   \n",
       "3 -0.105100 -0.477142           False           False          False   \n",
       "4 -1.313205  1.764052           False           False          False   \n",
       "\n",
       "   Borough_Bromley  Borough_Camden  Borough_City  Borough_City of Westminster  \\\n",
       "0            False           False         False                        False   \n",
       "1            False           False         False                        False   \n",
       "2            False           False         False                        False   \n",
       "3            False           False         False                        False   \n",
       "4            False           False         False                        False   \n",
       "\n",
       "   Borough_Croydon  ...  Source_Small Private Vessels  \\\n",
       "0            False  ...                         False   \n",
       "1            False  ...                         False   \n",
       "2            False  ...                         False   \n",
       "3            False  ...                         False   \n",
       "4            False  ...                         False   \n",
       "\n",
       "   Source_Small Scale Waste Burning  Source_Taxi  Source_TfL Bus  Source_WTS  \\\n",
       "0                             False        False           False       False   \n",
       "1                             False        False           False       False   \n",
       "2                             False        False           False       False   \n",
       "3                             False        False           False       False   \n",
       "4                             False        False           False       False   \n",
       "\n",
       "   Source_Wood Burning       nox      pm10     pm2.5  so2  \n",
       "0                False -0.236545 -0.295601 -0.404647  0.0  \n",
       "1                False  1.234381  1.766942  3.368122  0.0  \n",
       "2                False -0.236545 -0.295601 -0.404647  0.0  \n",
       "3                False  0.973890  3.215296  4.742593  0.0  \n",
       "4                False -0.236545 -0.295601 -0.404647  0.0  \n",
       "\n",
       "[5 rows x 99 columns]"
      ]
     },
     "execution_count": 22,
     "metadata": {},
     "output_type": "execute_result"
    }
   ],
   "source": [
    "test_data.head()"
   ]
  },
  {
   "cell_type": "markdown",
   "id": "ec2468b5-9b1d-4939-ada7-09240e3db920",
   "metadata": {
    "id": "2EY9-ha7OaWw"
   },
   "source": [
    "# Develop the Model"
   ]
  },
  {
   "cell_type": "code",
   "execution_count": 23,
   "id": "185bea43-3721-424d-a982-529387f3f2f7",
   "metadata": {
    "id": "yxqDvqn42WGQ"
   },
   "outputs": [],
   "source": [
    "# Method: Using Support Vector Regression Algorith (SVR)"
   ]
  },
  {
   "cell_type": "code",
   "execution_count": 24,
   "id": "_sT3CtY96Vcm",
   "metadata": {
    "id": "_sT3CtY96Vcm"
   },
   "outputs": [],
   "source": [
    "# Define the target columns(Pollutants)"
   ]
  },
  {
   "cell_type": "code",
   "execution_count": 25,
   "id": "YCkOXff46beC",
   "metadata": {
    "id": "YCkOXff46beC"
   },
   "outputs": [],
   "source": [
    "target_columns = ['nox','pm10','pm2.5','so2']"
   ]
  },
  {
   "cell_type": "code",
   "execution_count": 26,
   "id": "df8c3843-c2a4-4ffc-ac58-93c000213729",
   "metadata": {
    "id": "_gEnQjlo7KWD"
   },
   "outputs": [],
   "source": [
    "# Define x (features) and y (target) for both train and test data."
   ]
  },
  {
   "cell_type": "code",
   "execution_count": 27,
   "id": "NWJIm9wM8Um6",
   "metadata": {
    "id": "NWJIm9wM8Um6"
   },
   "outputs": [],
   "source": [
    "x_train = train_data.drop(['nox', 'pm10', 'pm2.5', 'so2'], axis=1)\n",
    "y_train = train_data[['nox', 'pm10', 'pm2.5', 'so2']]"
   ]
  },
  {
   "cell_type": "code",
   "execution_count": 28,
   "id": "MpS2oqDu_Xc9",
   "metadata": {
    "id": "MpS2oqDu_Xc9"
   },
   "outputs": [],
   "source": [
    "x_test = test_data.drop(['nox','pm10','pm2.5', 'so2'], axis=1)\n",
    "y_test = test_data[['nox','pm10','pm2.5','so2']]"
   ]
  },
  {
   "cell_type": "code",
   "execution_count": 29,
   "id": "09e5f327-3f4b-46ae-9903-bd5615ef5265",
   "metadata": {
    "id": "fyx1_8lTA1LH"
   },
   "outputs": [],
   "source": [
    "# Print the shape of the training and test dataset"
   ]
  },
  {
   "cell_type": "code",
   "execution_count": 30,
   "id": "rvbsPXOsBN7Z",
   "metadata": {
    "colab": {
     "base_uri": "https://localhost:8080/"
    },
    "id": "rvbsPXOsBN7Z",
    "outputId": "6bfac7d7-3df0-4d04-ce20-c1c55ef4c098"
   },
   "outputs": [
    {
     "name": "stdout",
     "output_type": "stream",
     "text": [
      "x_train shape: (59934, 95), y_train shape : (59934, 4)\n",
      "x_test shape: (14984, 95), y_test shape : (14984, 4)\n"
     ]
    }
   ],
   "source": [
    "print (f\"x_train shape: {x_train.shape}, y_train shape : {y_train.shape}\")\n",
    "print (f\"x_test shape: {x_test.shape}, y_test shape : {y_test.shape}\")"
   ]
  },
  {
   "cell_type": "markdown",
   "id": "8a0991bc-6b98-41a6-92f2-e0fe9ae0488e",
   "metadata": {
    "id": "t23-9A_g2h2N"
   },
   "source": [
    "# Initialise the SVR Model and consolidate it with MultiOutput Regressor"
   ]
  },
  {
   "cell_type": "code",
   "execution_count": 31,
   "id": "947e7ded-aad3-4057-a693-94b0814f6783",
   "metadata": {
    "id": "qGPm1hY935Gw"
   },
   "outputs": [],
   "source": [
    "# Scale the data using Standard Scaler"
   ]
  },
  {
   "cell_type": "markdown",
   "id": "166f093c-99c1-4058-9f14-d0ebf9866aed",
   "metadata": {
    "id": "bawKHoyC4KI1"
   },
   "source": [
    "scaler = StandardScaler()\n",
    "x_train_scaled = scaler.fit_transform(x_train) # fit and transform the training data\n",
    "x_test_scaled = scaler.transform(x_test) # transform the test data"
   ]
  },
  {
   "cell_type": "markdown",
   "id": "679be173-a42c-4721-a406-c5aea37bd7b2",
   "metadata": {},
   "source": [
    "# Create a Pipeline with Scaling, PCA and SVR Model "
   ]
  },
  {
   "cell_type": "markdown",
   "id": "0321c903-e2bb-4fc4-83f1-fe437b1f94d6",
   "metadata": {},
   "source": [
    "pipeline = Pipeline(steps=[\n",
    "    ('scaler', StandardScaler()), # Scale the features\n",
    "    ('pca', PCA(n_components=0.95)),  # Apply PCA for Dimensional Reduction\n",
    "    ('svr', MultiOutputRegressor(LinearSVR(random_state=42, max_iter=50000)))  # Fit the SVR model\n",
    "])"
   ]
  },
  {
   "cell_type": "code",
   "execution_count": 32,
   "id": "4616e4c2-3947-4a37-9166-0cd2626afa89",
   "metadata": {},
   "outputs": [],
   "source": [
    "pipeline = Pipeline(steps=[\n",
    "    ('scaler', StandardScaler()),  # Scale the features\n",
    "    ('pca', PCA(n_components=0.95)),  # Apply PCA for Dimensional Reduction\n",
    "    ('svr', MultiOutputRegressor(LinearSVR(random_state=42, max_iter=50000), n_jobs=-1))  # Fit the SVR model and Parallelize across cores\n",
    "])"
   ]
  },
  {
   "cell_type": "markdown",
   "id": "a1400018-1a54-4e12-873d-248a9c267812",
   "metadata": {},
   "source": [
    "# Train and Fit the Model"
   ]
  },
  {
   "cell_type": "code",
   "execution_count": 33,
   "id": "ee42f0dc-01a9-414d-869f-4dd11dca60d2",
   "metadata": {},
   "outputs": [
    {
     "data": {
      "text/html": [
       "<style>#sk-container-id-1 {\n",
       "  /* Definition of color scheme common for light and dark mode */\n",
       "  --sklearn-color-text: black;\n",
       "  --sklearn-color-line: gray;\n",
       "  /* Definition of color scheme for unfitted estimators */\n",
       "  --sklearn-color-unfitted-level-0: #fff5e6;\n",
       "  --sklearn-color-unfitted-level-1: #f6e4d2;\n",
       "  --sklearn-color-unfitted-level-2: #ffe0b3;\n",
       "  --sklearn-color-unfitted-level-3: chocolate;\n",
       "  /* Definition of color scheme for fitted estimators */\n",
       "  --sklearn-color-fitted-level-0: #f0f8ff;\n",
       "  --sklearn-color-fitted-level-1: #d4ebff;\n",
       "  --sklearn-color-fitted-level-2: #b3dbfd;\n",
       "  --sklearn-color-fitted-level-3: cornflowerblue;\n",
       "\n",
       "  /* Specific color for light theme */\n",
       "  --sklearn-color-text-on-default-background: var(--sg-text-color, var(--theme-code-foreground, var(--jp-content-font-color1, black)));\n",
       "  --sklearn-color-background: var(--sg-background-color, var(--theme-background, var(--jp-layout-color0, white)));\n",
       "  --sklearn-color-border-box: var(--sg-text-color, var(--theme-code-foreground, var(--jp-content-font-color1, black)));\n",
       "  --sklearn-color-icon: #696969;\n",
       "\n",
       "  @media (prefers-color-scheme: dark) {\n",
       "    /* Redefinition of color scheme for dark theme */\n",
       "    --sklearn-color-text-on-default-background: var(--sg-text-color, var(--theme-code-foreground, var(--jp-content-font-color1, white)));\n",
       "    --sklearn-color-background: var(--sg-background-color, var(--theme-background, var(--jp-layout-color0, #111)));\n",
       "    --sklearn-color-border-box: var(--sg-text-color, var(--theme-code-foreground, var(--jp-content-font-color1, white)));\n",
       "    --sklearn-color-icon: #878787;\n",
       "  }\n",
       "}\n",
       "\n",
       "#sk-container-id-1 {\n",
       "  color: var(--sklearn-color-text);\n",
       "}\n",
       "\n",
       "#sk-container-id-1 pre {\n",
       "  padding: 0;\n",
       "}\n",
       "\n",
       "#sk-container-id-1 input.sk-hidden--visually {\n",
       "  border: 0;\n",
       "  clip: rect(1px 1px 1px 1px);\n",
       "  clip: rect(1px, 1px, 1px, 1px);\n",
       "  height: 1px;\n",
       "  margin: -1px;\n",
       "  overflow: hidden;\n",
       "  padding: 0;\n",
       "  position: absolute;\n",
       "  width: 1px;\n",
       "}\n",
       "\n",
       "#sk-container-id-1 div.sk-dashed-wrapped {\n",
       "  border: 1px dashed var(--sklearn-color-line);\n",
       "  margin: 0 0.4em 0.5em 0.4em;\n",
       "  box-sizing: border-box;\n",
       "  padding-bottom: 0.4em;\n",
       "  background-color: var(--sklearn-color-background);\n",
       "}\n",
       "\n",
       "#sk-container-id-1 div.sk-container {\n",
       "  /* jupyter's `normalize.less` sets `[hidden] { display: none; }`\n",
       "     but bootstrap.min.css set `[hidden] { display: none !important; }`\n",
       "     so we also need the `!important` here to be able to override the\n",
       "     default hidden behavior on the sphinx rendered scikit-learn.org.\n",
       "     See: https://github.com/scikit-learn/scikit-learn/issues/21755 */\n",
       "  display: inline-block !important;\n",
       "  position: relative;\n",
       "}\n",
       "\n",
       "#sk-container-id-1 div.sk-text-repr-fallback {\n",
       "  display: none;\n",
       "}\n",
       "\n",
       "div.sk-parallel-item,\n",
       "div.sk-serial,\n",
       "div.sk-item {\n",
       "  /* draw centered vertical line to link estimators */\n",
       "  background-image: linear-gradient(var(--sklearn-color-text-on-default-background), var(--sklearn-color-text-on-default-background));\n",
       "  background-size: 2px 100%;\n",
       "  background-repeat: no-repeat;\n",
       "  background-position: center center;\n",
       "}\n",
       "\n",
       "/* Parallel-specific style estimator block */\n",
       "\n",
       "#sk-container-id-1 div.sk-parallel-item::after {\n",
       "  content: \"\";\n",
       "  width: 100%;\n",
       "  border-bottom: 2px solid var(--sklearn-color-text-on-default-background);\n",
       "  flex-grow: 1;\n",
       "}\n",
       "\n",
       "#sk-container-id-1 div.sk-parallel {\n",
       "  display: flex;\n",
       "  align-items: stretch;\n",
       "  justify-content: center;\n",
       "  background-color: var(--sklearn-color-background);\n",
       "  position: relative;\n",
       "}\n",
       "\n",
       "#sk-container-id-1 div.sk-parallel-item {\n",
       "  display: flex;\n",
       "  flex-direction: column;\n",
       "}\n",
       "\n",
       "#sk-container-id-1 div.sk-parallel-item:first-child::after {\n",
       "  align-self: flex-end;\n",
       "  width: 50%;\n",
       "}\n",
       "\n",
       "#sk-container-id-1 div.sk-parallel-item:last-child::after {\n",
       "  align-self: flex-start;\n",
       "  width: 50%;\n",
       "}\n",
       "\n",
       "#sk-container-id-1 div.sk-parallel-item:only-child::after {\n",
       "  width: 0;\n",
       "}\n",
       "\n",
       "/* Serial-specific style estimator block */\n",
       "\n",
       "#sk-container-id-1 div.sk-serial {\n",
       "  display: flex;\n",
       "  flex-direction: column;\n",
       "  align-items: center;\n",
       "  background-color: var(--sklearn-color-background);\n",
       "  padding-right: 1em;\n",
       "  padding-left: 1em;\n",
       "}\n",
       "\n",
       "\n",
       "/* Toggleable style: style used for estimator/Pipeline/ColumnTransformer box that is\n",
       "clickable and can be expanded/collapsed.\n",
       "- Pipeline and ColumnTransformer use this feature and define the default style\n",
       "- Estimators will overwrite some part of the style using the `sk-estimator` class\n",
       "*/\n",
       "\n",
       "/* Pipeline and ColumnTransformer style (default) */\n",
       "\n",
       "#sk-container-id-1 div.sk-toggleable {\n",
       "  /* Default theme specific background. It is overwritten whether we have a\n",
       "  specific estimator or a Pipeline/ColumnTransformer */\n",
       "  background-color: var(--sklearn-color-background);\n",
       "}\n",
       "\n",
       "/* Toggleable label */\n",
       "#sk-container-id-1 label.sk-toggleable__label {\n",
       "  cursor: pointer;\n",
       "  display: block;\n",
       "  width: 100%;\n",
       "  margin-bottom: 0;\n",
       "  padding: 0.5em;\n",
       "  box-sizing: border-box;\n",
       "  text-align: center;\n",
       "}\n",
       "\n",
       "#sk-container-id-1 label.sk-toggleable__label-arrow:before {\n",
       "  /* Arrow on the left of the label */\n",
       "  content: \"▸\";\n",
       "  float: left;\n",
       "  margin-right: 0.25em;\n",
       "  color: var(--sklearn-color-icon);\n",
       "}\n",
       "\n",
       "#sk-container-id-1 label.sk-toggleable__label-arrow:hover:before {\n",
       "  color: var(--sklearn-color-text);\n",
       "}\n",
       "\n",
       "/* Toggleable content - dropdown */\n",
       "\n",
       "#sk-container-id-1 div.sk-toggleable__content {\n",
       "  max-height: 0;\n",
       "  max-width: 0;\n",
       "  overflow: hidden;\n",
       "  text-align: left;\n",
       "  /* unfitted */\n",
       "  background-color: var(--sklearn-color-unfitted-level-0);\n",
       "}\n",
       "\n",
       "#sk-container-id-1 div.sk-toggleable__content.fitted {\n",
       "  /* fitted */\n",
       "  background-color: var(--sklearn-color-fitted-level-0);\n",
       "}\n",
       "\n",
       "#sk-container-id-1 div.sk-toggleable__content pre {\n",
       "  margin: 0.2em;\n",
       "  border-radius: 0.25em;\n",
       "  color: var(--sklearn-color-text);\n",
       "  /* unfitted */\n",
       "  background-color: var(--sklearn-color-unfitted-level-0);\n",
       "}\n",
       "\n",
       "#sk-container-id-1 div.sk-toggleable__content.fitted pre {\n",
       "  /* unfitted */\n",
       "  background-color: var(--sklearn-color-fitted-level-0);\n",
       "}\n",
       "\n",
       "#sk-container-id-1 input.sk-toggleable__control:checked~div.sk-toggleable__content {\n",
       "  /* Expand drop-down */\n",
       "  max-height: 200px;\n",
       "  max-width: 100%;\n",
       "  overflow: auto;\n",
       "}\n",
       "\n",
       "#sk-container-id-1 input.sk-toggleable__control:checked~label.sk-toggleable__label-arrow:before {\n",
       "  content: \"▾\";\n",
       "}\n",
       "\n",
       "/* Pipeline/ColumnTransformer-specific style */\n",
       "\n",
       "#sk-container-id-1 div.sk-label input.sk-toggleable__control:checked~label.sk-toggleable__label {\n",
       "  color: var(--sklearn-color-text);\n",
       "  background-color: var(--sklearn-color-unfitted-level-2);\n",
       "}\n",
       "\n",
       "#sk-container-id-1 div.sk-label.fitted input.sk-toggleable__control:checked~label.sk-toggleable__label {\n",
       "  background-color: var(--sklearn-color-fitted-level-2);\n",
       "}\n",
       "\n",
       "/* Estimator-specific style */\n",
       "\n",
       "/* Colorize estimator box */\n",
       "#sk-container-id-1 div.sk-estimator input.sk-toggleable__control:checked~label.sk-toggleable__label {\n",
       "  /* unfitted */\n",
       "  background-color: var(--sklearn-color-unfitted-level-2);\n",
       "}\n",
       "\n",
       "#sk-container-id-1 div.sk-estimator.fitted input.sk-toggleable__control:checked~label.sk-toggleable__label {\n",
       "  /* fitted */\n",
       "  background-color: var(--sklearn-color-fitted-level-2);\n",
       "}\n",
       "\n",
       "#sk-container-id-1 div.sk-label label.sk-toggleable__label,\n",
       "#sk-container-id-1 div.sk-label label {\n",
       "  /* The background is the default theme color */\n",
       "  color: var(--sklearn-color-text-on-default-background);\n",
       "}\n",
       "\n",
       "/* On hover, darken the color of the background */\n",
       "#sk-container-id-1 div.sk-label:hover label.sk-toggleable__label {\n",
       "  color: var(--sklearn-color-text);\n",
       "  background-color: var(--sklearn-color-unfitted-level-2);\n",
       "}\n",
       "\n",
       "/* Label box, darken color on hover, fitted */\n",
       "#sk-container-id-1 div.sk-label.fitted:hover label.sk-toggleable__label.fitted {\n",
       "  color: var(--sklearn-color-text);\n",
       "  background-color: var(--sklearn-color-fitted-level-2);\n",
       "}\n",
       "\n",
       "/* Estimator label */\n",
       "\n",
       "#sk-container-id-1 div.sk-label label {\n",
       "  font-family: monospace;\n",
       "  font-weight: bold;\n",
       "  display: inline-block;\n",
       "  line-height: 1.2em;\n",
       "}\n",
       "\n",
       "#sk-container-id-1 div.sk-label-container {\n",
       "  text-align: center;\n",
       "}\n",
       "\n",
       "/* Estimator-specific */\n",
       "#sk-container-id-1 div.sk-estimator {\n",
       "  font-family: monospace;\n",
       "  border: 1px dotted var(--sklearn-color-border-box);\n",
       "  border-radius: 0.25em;\n",
       "  box-sizing: border-box;\n",
       "  margin-bottom: 0.5em;\n",
       "  /* unfitted */\n",
       "  background-color: var(--sklearn-color-unfitted-level-0);\n",
       "}\n",
       "\n",
       "#sk-container-id-1 div.sk-estimator.fitted {\n",
       "  /* fitted */\n",
       "  background-color: var(--sklearn-color-fitted-level-0);\n",
       "}\n",
       "\n",
       "/* on hover */\n",
       "#sk-container-id-1 div.sk-estimator:hover {\n",
       "  /* unfitted */\n",
       "  background-color: var(--sklearn-color-unfitted-level-2);\n",
       "}\n",
       "\n",
       "#sk-container-id-1 div.sk-estimator.fitted:hover {\n",
       "  /* fitted */\n",
       "  background-color: var(--sklearn-color-fitted-level-2);\n",
       "}\n",
       "\n",
       "/* Specification for estimator info (e.g. \"i\" and \"?\") */\n",
       "\n",
       "/* Common style for \"i\" and \"?\" */\n",
       "\n",
       ".sk-estimator-doc-link,\n",
       "a:link.sk-estimator-doc-link,\n",
       "a:visited.sk-estimator-doc-link {\n",
       "  float: right;\n",
       "  font-size: smaller;\n",
       "  line-height: 1em;\n",
       "  font-family: monospace;\n",
       "  background-color: var(--sklearn-color-background);\n",
       "  border-radius: 1em;\n",
       "  height: 1em;\n",
       "  width: 1em;\n",
       "  text-decoration: none !important;\n",
       "  margin-left: 1ex;\n",
       "  /* unfitted */\n",
       "  border: var(--sklearn-color-unfitted-level-1) 1pt solid;\n",
       "  color: var(--sklearn-color-unfitted-level-1);\n",
       "}\n",
       "\n",
       ".sk-estimator-doc-link.fitted,\n",
       "a:link.sk-estimator-doc-link.fitted,\n",
       "a:visited.sk-estimator-doc-link.fitted {\n",
       "  /* fitted */\n",
       "  border: var(--sklearn-color-fitted-level-1) 1pt solid;\n",
       "  color: var(--sklearn-color-fitted-level-1);\n",
       "}\n",
       "\n",
       "/* On hover */\n",
       "div.sk-estimator:hover .sk-estimator-doc-link:hover,\n",
       ".sk-estimator-doc-link:hover,\n",
       "div.sk-label-container:hover .sk-estimator-doc-link:hover,\n",
       ".sk-estimator-doc-link:hover {\n",
       "  /* unfitted */\n",
       "  background-color: var(--sklearn-color-unfitted-level-3);\n",
       "  color: var(--sklearn-color-background);\n",
       "  text-decoration: none;\n",
       "}\n",
       "\n",
       "div.sk-estimator.fitted:hover .sk-estimator-doc-link.fitted:hover,\n",
       ".sk-estimator-doc-link.fitted:hover,\n",
       "div.sk-label-container:hover .sk-estimator-doc-link.fitted:hover,\n",
       ".sk-estimator-doc-link.fitted:hover {\n",
       "  /* fitted */\n",
       "  background-color: var(--sklearn-color-fitted-level-3);\n",
       "  color: var(--sklearn-color-background);\n",
       "  text-decoration: none;\n",
       "}\n",
       "\n",
       "/* Span, style for the box shown on hovering the info icon */\n",
       ".sk-estimator-doc-link span {\n",
       "  display: none;\n",
       "  z-index: 9999;\n",
       "  position: relative;\n",
       "  font-weight: normal;\n",
       "  right: .2ex;\n",
       "  padding: .5ex;\n",
       "  margin: .5ex;\n",
       "  width: min-content;\n",
       "  min-width: 20ex;\n",
       "  max-width: 50ex;\n",
       "  color: var(--sklearn-color-text);\n",
       "  box-shadow: 2pt 2pt 4pt #999;\n",
       "  /* unfitted */\n",
       "  background: var(--sklearn-color-unfitted-level-0);\n",
       "  border: .5pt solid var(--sklearn-color-unfitted-level-3);\n",
       "}\n",
       "\n",
       ".sk-estimator-doc-link.fitted span {\n",
       "  /* fitted */\n",
       "  background: var(--sklearn-color-fitted-level-0);\n",
       "  border: var(--sklearn-color-fitted-level-3);\n",
       "}\n",
       "\n",
       ".sk-estimator-doc-link:hover span {\n",
       "  display: block;\n",
       "}\n",
       "\n",
       "/* \"?\"-specific style due to the `<a>` HTML tag */\n",
       "\n",
       "#sk-container-id-1 a.estimator_doc_link {\n",
       "  float: right;\n",
       "  font-size: 1rem;\n",
       "  line-height: 1em;\n",
       "  font-family: monospace;\n",
       "  background-color: var(--sklearn-color-background);\n",
       "  border-radius: 1rem;\n",
       "  height: 1rem;\n",
       "  width: 1rem;\n",
       "  text-decoration: none;\n",
       "  /* unfitted */\n",
       "  color: var(--sklearn-color-unfitted-level-1);\n",
       "  border: var(--sklearn-color-unfitted-level-1) 1pt solid;\n",
       "}\n",
       "\n",
       "#sk-container-id-1 a.estimator_doc_link.fitted {\n",
       "  /* fitted */\n",
       "  border: var(--sklearn-color-fitted-level-1) 1pt solid;\n",
       "  color: var(--sklearn-color-fitted-level-1);\n",
       "}\n",
       "\n",
       "/* On hover */\n",
       "#sk-container-id-1 a.estimator_doc_link:hover {\n",
       "  /* unfitted */\n",
       "  background-color: var(--sklearn-color-unfitted-level-3);\n",
       "  color: var(--sklearn-color-background);\n",
       "  text-decoration: none;\n",
       "}\n",
       "\n",
       "#sk-container-id-1 a.estimator_doc_link.fitted:hover {\n",
       "  /* fitted */\n",
       "  background-color: var(--sklearn-color-fitted-level-3);\n",
       "}\n",
       "</style><div id=\"sk-container-id-1\" class=\"sk-top-container\"><div class=\"sk-text-repr-fallback\"><pre>Pipeline(steps=[(&#x27;scaler&#x27;, StandardScaler()), (&#x27;pca&#x27;, PCA(n_components=0.95)),\n",
       "                (&#x27;svr&#x27;,\n",
       "                 MultiOutputRegressor(estimator=LinearSVR(max_iter=50000,\n",
       "                                                          random_state=42),\n",
       "                                      n_jobs=-1))])</pre><b>In a Jupyter environment, please rerun this cell to show the HTML representation or trust the notebook. <br />On GitHub, the HTML representation is unable to render, please try loading this page with nbviewer.org.</b></div><div class=\"sk-container\" hidden><div class=\"sk-item sk-dashed-wrapped\"><div class=\"sk-label-container\"><div class=\"sk-label fitted sk-toggleable\"><input class=\"sk-toggleable__control sk-hidden--visually\" id=\"sk-estimator-id-1\" type=\"checkbox\" ><label for=\"sk-estimator-id-1\" class=\"sk-toggleable__label fitted sk-toggleable__label-arrow fitted\">&nbsp;&nbsp;Pipeline<a class=\"sk-estimator-doc-link fitted\" rel=\"noreferrer\" target=\"_blank\" href=\"https://scikit-learn.org/1.5/modules/generated/sklearn.pipeline.Pipeline.html\">?<span>Documentation for Pipeline</span></a><span class=\"sk-estimator-doc-link fitted\">i<span>Fitted</span></span></label><div class=\"sk-toggleable__content fitted\"><pre>Pipeline(steps=[(&#x27;scaler&#x27;, StandardScaler()), (&#x27;pca&#x27;, PCA(n_components=0.95)),\n",
       "                (&#x27;svr&#x27;,\n",
       "                 MultiOutputRegressor(estimator=LinearSVR(max_iter=50000,\n",
       "                                                          random_state=42),\n",
       "                                      n_jobs=-1))])</pre></div> </div></div><div class=\"sk-serial\"><div class=\"sk-item\"><div class=\"sk-estimator fitted sk-toggleable\"><input class=\"sk-toggleable__control sk-hidden--visually\" id=\"sk-estimator-id-2\" type=\"checkbox\" ><label for=\"sk-estimator-id-2\" class=\"sk-toggleable__label fitted sk-toggleable__label-arrow fitted\">&nbsp;StandardScaler<a class=\"sk-estimator-doc-link fitted\" rel=\"noreferrer\" target=\"_blank\" href=\"https://scikit-learn.org/1.5/modules/generated/sklearn.preprocessing.StandardScaler.html\">?<span>Documentation for StandardScaler</span></a></label><div class=\"sk-toggleable__content fitted\"><pre>StandardScaler()</pre></div> </div></div><div class=\"sk-item\"><div class=\"sk-estimator fitted sk-toggleable\"><input class=\"sk-toggleable__control sk-hidden--visually\" id=\"sk-estimator-id-3\" type=\"checkbox\" ><label for=\"sk-estimator-id-3\" class=\"sk-toggleable__label fitted sk-toggleable__label-arrow fitted\">&nbsp;PCA<a class=\"sk-estimator-doc-link fitted\" rel=\"noreferrer\" target=\"_blank\" href=\"https://scikit-learn.org/1.5/modules/generated/sklearn.decomposition.PCA.html\">?<span>Documentation for PCA</span></a></label><div class=\"sk-toggleable__content fitted\"><pre>PCA(n_components=0.95)</pre></div> </div></div><div class=\"sk-item sk-dashed-wrapped\"><div class=\"sk-label-container\"><div class=\"sk-label fitted sk-toggleable\"><input class=\"sk-toggleable__control sk-hidden--visually\" id=\"sk-estimator-id-4\" type=\"checkbox\" ><label for=\"sk-estimator-id-4\" class=\"sk-toggleable__label fitted sk-toggleable__label-arrow fitted\">&nbsp;svr: MultiOutputRegressor<a class=\"sk-estimator-doc-link fitted\" rel=\"noreferrer\" target=\"_blank\" href=\"https://scikit-learn.org/1.5/modules/generated/sklearn.multioutput.MultiOutputRegressor.html\">?<span>Documentation for svr: MultiOutputRegressor</span></a></label><div class=\"sk-toggleable__content fitted\"><pre>MultiOutputRegressor(estimator=LinearSVR(max_iter=50000, random_state=42),\n",
       "                     n_jobs=-1)</pre></div> </div></div><div class=\"sk-parallel\"><div class=\"sk-parallel-item\"><div class=\"sk-item\"><div class=\"sk-label-container\"><div class=\"sk-label fitted sk-toggleable\"><input class=\"sk-toggleable__control sk-hidden--visually\" id=\"sk-estimator-id-5\" type=\"checkbox\" ><label for=\"sk-estimator-id-5\" class=\"sk-toggleable__label fitted sk-toggleable__label-arrow fitted\">estimator: LinearSVR</label><div class=\"sk-toggleable__content fitted\"><pre>LinearSVR(max_iter=50000, random_state=42)</pre></div> </div></div><div class=\"sk-serial\"><div class=\"sk-item\"><div class=\"sk-estimator fitted sk-toggleable\"><input class=\"sk-toggleable__control sk-hidden--visually\" id=\"sk-estimator-id-6\" type=\"checkbox\" ><label for=\"sk-estimator-id-6\" class=\"sk-toggleable__label fitted sk-toggleable__label-arrow fitted\">&nbsp;LinearSVR<a class=\"sk-estimator-doc-link fitted\" rel=\"noreferrer\" target=\"_blank\" href=\"https://scikit-learn.org/1.5/modules/generated/sklearn.svm.LinearSVR.html\">?<span>Documentation for LinearSVR</span></a></label><div class=\"sk-toggleable__content fitted\"><pre>LinearSVR(max_iter=50000, random_state=42)</pre></div> </div></div></div></div></div></div></div></div></div></div></div>"
      ],
      "text/plain": [
       "Pipeline(steps=[('scaler', StandardScaler()), ('pca', PCA(n_components=0.95)),\n",
       "                ('svr',\n",
       "                 MultiOutputRegressor(estimator=LinearSVR(max_iter=50000,\n",
       "                                                          random_state=42),\n",
       "                                      n_jobs=-1))])"
      ]
     },
     "execution_count": 33,
     "metadata": {},
     "output_type": "execute_result"
    }
   ],
   "source": [
    "pipeline.fit(x_train, y_train)"
   ]
  },
  {
   "cell_type": "markdown",
   "id": "77858d97-7a26-4383-9a09-eea708e81e77",
   "metadata": {},
   "source": [
    "# Make the Prediction on the test data"
   ]
  },
  {
   "cell_type": "code",
   "execution_count": 34,
   "id": "6db7a50a-5e10-46f0-afbb-a235b9826dc9",
   "metadata": {
    "scrolled": true
   },
   "outputs": [
    {
     "name": "stdout",
     "output_type": "stream",
     "text": [
      "Predictions (first 5): [[-0.23652937 -0.29492034 -0.40520607  0.        ]\n",
      " [ 0.04819226  0.28327174  0.62943275  0.        ]\n",
      " [-0.2374908  -0.29529185 -0.40988757  0.        ]\n",
      " [ 0.18140251  0.58635626  0.94454483  0.        ]\n",
      " [-0.23640523 -0.29504387 -0.40493734  0.        ]]\n"
     ]
    }
   ],
   "source": [
    "\n",
    "# Make predictions using the loaded pipeline\n",
    "svr_predictions = pipeline.predict(x_test)\n",
    "\n",
    "# Print a short summary of the predictions (first 5 predictions)\n",
    "print(f\"Predictions (first 5): {svr_predictions[:5]}\")\n"
   ]
  },
  {
   "cell_type": "markdown",
   "id": "57937656-888f-41e4-b366-7b69473014b7",
   "metadata": {},
   "source": [
    "# Evaluate each target's prediction by using mean square error and r square."
   ]
  },
  {
   "cell_type": "code",
   "execution_count": 35,
   "id": "bfa3a730-f060-4830-a212-88d964002abd",
   "metadata": {},
   "outputs": [
    {
     "name": "stdout",
     "output_type": "stream",
     "text": [
      "Mean Squared Error: 0.8829494164203728\n",
      "R-Squared: 0.133470901236239\n"
     ]
    }
   ],
   "source": [
    "mse = mean_squared_error(y_test, svr_predictions)\n",
    "r2 = r2_score(y_test, svr_predictions) \n",
    "print(f\"Mean Squared Error: {mse}\")\n",
    "print(f\"R-Squared: {r2}\")\n"
   ]
  },
  {
   "cell_type": "markdown",
   "id": "c3e80a12-8812-40dc-940d-a778e6720c37",
   "metadata": {},
   "source": [
    "# Save the Train Model"
   ]
  },
  {
   "cell_type": "markdown",
   "id": "fcdae9b7-6df2-4708-9adc-8dfa12c36583",
   "metadata": {},
   "source": [
    "### We will now save our trained model for future purposes, evaluations and predictions"
   ]
  },
  {
   "cell_type": "code",
   "execution_count": 36,
   "id": "9498061a-9231-45ed-b40c-3bbe0fc82bef",
   "metadata": {},
   "outputs": [
    {
     "name": "stdout",
     "output_type": "stream",
     "text": [
      "Pipeline model saved to: ../../models/svr_pipeline_model.pkl\n"
     ]
    }
   ],
   "source": [
    "# Save the entire pipeline (scaler, PCA, and SVR)\n",
    "MODEL_SAVE_PATH = '../../models/svr_pipeline_model.pkl'\n",
    "joblib.dump(pipeline, MODEL_SAVE_PATH)\n",
    "\n",
    "print(f\"Pipeline model saved to: {MODEL_SAVE_PATH}\")\n"
   ]
  },
  {
   "cell_type": "code",
   "execution_count": null,
   "id": "c5221a6b-fc88-41e6-91f9-7b5173de7602",
   "metadata": {},
   "outputs": [],
   "source": []
  }
 ],
 "metadata": {
  "colab": {
   "provenance": []
  },
  "kernelspec": {
   "display_name": "Python 3 (ipykernel)",
   "language": "python",
   "name": "python3"
  },
  "language_info": {
   "codemirror_mode": {
    "name": "ipython",
    "version": 3
   },
   "file_extension": ".py",
   "mimetype": "text/x-python",
   "name": "python",
   "nbconvert_exporter": "python",
   "pygments_lexer": "ipython3",
   "version": "3.12.3"
  }
 },
 "nbformat": 4,
 "nbformat_minor": 5
}
